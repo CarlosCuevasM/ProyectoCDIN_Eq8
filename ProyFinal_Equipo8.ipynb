{
 "cells": [
  {
   "cell_type": "markdown",
   "metadata": {},
   "source": [
    "<img style=\"float: right; margin: 0px 0px 15px 15px;\" src=\"https://upload.wikimedia.org/wikipedia/commons/d/db/Logo_ITESO_normal.jpg\" width=\"150px\" height=\"90px\" />\n",
    "\n",
    "## Ciencia de Datos e Inteligencia de Negocios\n",
    "\n",
    "### Proyecto Final.- Insurance.\n",
    "\n",
    ">##### Carlos Cuevas\n",
    ">##### Mateo Verea\n",
    ">##### Oscar Villa"
   ]
  },
  {
   "cell_type": "markdown",
   "metadata": {},
   "source": [
    "### Objetivo:\n",
    "\n",
    "Dada la base da datos, se definirán métricas para analizar el desempeño de agentes de seguros basado en diferentes atributos, como la demografía, preductos vendidos, zona, etc. Con la finalidad de mejorar el conocimiento existente y que se utiliza para la segmentación de agentes bajo un sistema de predicción supervisado."
   ]
  },
  {
   "cell_type": "code",
   "execution_count": 1,
   "metadata": {},
   "outputs": [],
   "source": [
    "#Importar librerías necesarias.\n",
    "import random\n",
    "import numpy as np\n",
    "import matplotlib.pyplot as plt\n",
    "import pandas as pd\n",
    "import scipy.optimize as opt\n",
    "from sklearn import svm\n",
    "from sklearn.preprocessing import PolynomialFeatures\n",
    "from sklearn import linear_model\n",
    "from sklearn.metrics import (confusion_matrix,precision_score,recall_score,f1_score,accuracy_score)"
   ]
  },
  {
   "cell_type": "code",
   "execution_count": null,
   "metadata": {},
   "outputs": [],
   "source": []
  }
 ],
 "metadata": {
  "kernelspec": {
   "display_name": "Python 3",
   "language": "python",
   "name": "python3"
  },
  "language_info": {
   "codemirror_mode": {
    "name": "ipython",
    "version": 3
   },
   "file_extension": ".py",
   "mimetype": "text/x-python",
   "name": "python",
   "nbconvert_exporter": "python",
   "pygments_lexer": "ipython3",
   "version": "3.7.0"
  }
 },
 "nbformat": 4,
 "nbformat_minor": 2
}
